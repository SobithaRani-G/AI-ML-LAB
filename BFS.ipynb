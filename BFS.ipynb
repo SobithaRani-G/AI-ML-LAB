{
 "cells": [
  {
   "cell_type": "code",
   "execution_count": 5,
   "id": "ff833c25",
   "metadata": {},
   "outputs": [
    {
     "name": "stdout",
     "output_type": "stream",
     "text": [
      "Following is the Breadth-First Search\n",
      "5 3 7 2 4 8 "
     ]
    }
   ],
   "source": [
    "graph = {\n",
    "'1' : ['3','2'],\n",
    "'3' : [],\n",
    "'2' : [],\n",
    "'4' : ['2','5'],\n",
    "'5' : [],\n",
    "'6':['3']\n",
    "}\n",
    "visited = [] \n",
    "queue = []\n",
    "def bfs(visited, graph, node): \n",
    "    visited.append(node)\n",
    "    queue.append(node)\n",
    "    while queue: \n",
    "        m = queue.pop(0)\n",
    "        print (m, end = \" \")\n",
    "        for neighbour in graph[m]:\n",
    "            if neighbour not in visited:\n",
    "                visited.append(neighbour)\n",
    "                queue.append(neighbour)\n",
    "print(\"Following is the Breadth-First Search\")\n",
    "bfs(visited, graph, '5') "
   ]
  },
  {
   "cell_type": "code",
   "execution_count": null,
   "id": "d14ca123",
   "metadata": {},
   "outputs": [],
   "source": []
  }
 ],
 "metadata": {
  "kernelspec": {
   "display_name": "Python 3 (ipykernel)",
   "language": "python",
   "name": "python3"
  },
  "language_info": {
   "codemirror_mode": {
    "name": "ipython",
    "version": 3
   },
   "file_extension": ".py",
   "mimetype": "text/x-python",
   "name": "python",
   "nbconvert_exporter": "python",
   "pygments_lexer": "ipython3",
   "version": "3.9.12"
  }
 },
 "nbformat": 4,
 "nbformat_minor": 5
}
